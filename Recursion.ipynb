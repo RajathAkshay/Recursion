{
 "cells": [
  {
   "cell_type": "markdown",
   "metadata": {},
   "source": [
    "# Exercise 1: Recursive sequence"
   ]
  },
  {
   "cell_type": "markdown",
   "metadata": {},
   "source": [
    "We have previously worked on the famous Fibonacci sequence: https://en.wikipedia.org/wiki/Fibonacci_number.  \n",
    "In this exercise we define a similar recursive sequence:\n",
    "$F_{n}=2 F_{n-2} + F_{n - 3}$.  \n",
    "The initial values of the sequence are defined as:  \n",
    "$F_{0} = 3,$  \n",
    "$F_{1} = 5,$  \n",
    "$F_{2} = 8.$  \n",
    "We ask that you write a recursive function which computes $F_{n}$ (if $n$ is a non-negative integer) using a Python list $l$ for memoisation. Please use *exactly* the prototype given below. Iterative functions and recursive functions without memoisation will *not* be accepted."
   ]
  },
  {
   "cell_type": "code",
   "execution_count": 1,
   "metadata": {},
   "outputs": [],
   "source": [
    "def F(n, l = None):\n",
    "    if l == None:\n",
    "        l = [None] * (n+1) # construct a list for computing.\n",
    "    \n",
    "    # first base case.\n",
    "    if n == 0:    \n",
    "        l[0] = 3 # specify the first element.\n",
    "        return l[n]\n",
    "    \n",
    "    # second base case.\n",
    "    if n == 1:\n",
    "        l[1] = 5 # specify the second element.\n",
    "        return l[n]\n",
    "    \n",
    "    # third base case.\n",
    "    if n == 2:\n",
    "        l[2] = 8 # specify the third element.\n",
    "        return l[n]\n",
    "    \n",
    "    # run the loop for number of iterations requested.\n",
    "    for i in range(n,0,-1):\n",
    "        if l[i] != None:\n",
    "            #return the element.\n",
    "            return l[i] \n",
    "        else:\n",
    "            #compute the Fibonacci value.\n",
    "            l[i] = 2 * (F(i-2,l)) + F(i-3,l) \n",
    "            \n",
    "            # return the computed list.\n",
    "            return l[i]"
   ]
  },
  {
   "cell_type": "markdown",
   "metadata": {},
   "source": [
    "Here we provide some values of $F$ in the assertions below for you to check the correctness of your code:"
   ]
  },
  {
   "cell_type": "code",
   "execution_count": 2,
   "metadata": {},
   "outputs": [],
   "source": [
    "values = {0:3, 2:8, 5:34, 10:377, 15:4181, 20:46368, 25:514229, 30:5702887}\n",
    "for i, f in values.items():\n",
    "    assert F(i) == f, \\\n",
    "        \"The function computed F({}) = {} instead of {}\" \\\n",
    "        .format(i, F(i), f)"
   ]
  },
  {
   "cell_type": "markdown",
   "metadata": {},
   "source": [
    "*Remark:* if the tests above fail because the maximum recursion depth has been exceeded, your use of the list $l$ for memoisation may be incorrect."
   ]
  },
  {
   "cell_type": "markdown",
   "metadata": {},
   "source": [
    "# Exercise 2: Recursive approximation"
   ]
  },
  {
   "cell_type": "markdown",
   "metadata": {},
   "source": [
    "Write a recursive algorithm that computes an approximation of the logarithm of a real number $x \\geq 1$ in a given integer base $b \\geq 2$ using $n$ steps. You can only use the operations $+, -, *, /, **$ (therefore not the $log$ function). The function will recursively compute an interval $[l, u]$ to which $log(x)$ belongs. Please use *exactly* the prototype below. In this prototype,\n",
    "* $n$ indicates the number of steps (or recursive calls),\n",
    "* $x$ the number for which to compute the logarithm,\n",
    "* $b$ the base of the logarithm,\n",
    "* $l$ a proven lower bound of the logarithm,\n",
    "* $u$ a proven upper bound of the logarithm."
   ]
  },
  {
   "cell_type": "code",
   "execution_count": 3,
   "metadata": {},
   "outputs": [],
   "source": [
    "def recursivelog(n, x, b, l=None, u=None):\n",
    "    assert( n >= 0)\n",
    "    assert( x >= 1)\n",
    "    assert( isinstance(b, int) )\n",
    "    assert( b >= 2 )\n",
    "    if l == None:\n",
    "        l = 0 # initialize minimum value for the variable.\n",
    "    if u == None:\n",
    "        u = x # initialize maximum value for the variable.\n",
    "    \n",
    "    # take the average value of the limits.\n",
    "    m = (l + u)/2\n",
    "    \n",
    "    # run the loop for number of iterations requested.\n",
    "    while n!= 0:\n",
    "        \n",
    "        # reduce the number of iterations by one.\n",
    "        n -= 1 \n",
    "        # check for the approximate value.\n",
    "        if b**m >= x:\n",
    "            return recursivelog(n,x,b,l,m)\n",
    "        else:\n",
    "            return recursivelog(n,x,b,m,u)\n",
    "    \n",
    "    # return the upper limit\n",
    "    return u"
   ]
  },
  {
   "cell_type": "markdown",
   "metadata": {},
   "source": [
    "Use the cell below for small tests:"
   ]
  },
  {
   "cell_type": "code",
   "execution_count": 4,
   "metadata": {},
   "outputs": [
    {
     "name": "stdout",
     "output_type": "stream",
     "text": [
      "2.0\n",
      "1.0\n"
     ]
    }
   ],
   "source": [
    "print(recursivelog(100, 4, 2))\n",
    "print(recursivelog(100, 10, 10))"
   ]
  },
  {
   "cell_type": "markdown",
   "metadata": {},
   "source": [
    "We test the results below using the function \"isclose\" (see https://docs.python.org/3/library/math.html#math.isclose )."
   ]
  },
  {
   "cell_type": "code",
   "execution_count": 5,
   "metadata": {},
   "outputs": [],
   "source": [
    "import math\n",
    "import random\n",
    "random.seed(0)\n",
    "n = 100\n",
    "ntest = 10\n",
    "\n",
    "for b in range(2, 11):\n",
    "    for _ in range(ntest):\n",
    "        x = random.uniform(1, 10^6)\n",
    "        mylog = recursivelog(n, x, b)\n",
    "        mathlog = math.log(x, b)\n",
    "        assert math.isclose(mylog, mathlog, abs_tol=0.00001), \"for x={0} and b={1}, mylog={2} is not close enough to mathlog={3}\".format(x, b, mylog, mathlog)"
   ]
  },
  {
   "cell_type": "markdown",
   "metadata": {},
   "source": [
    "# Exercise 3: Search for a pair of integers in a list"
   ]
  },
  {
   "cell_type": "markdown",
   "metadata": {},
   "source": [
    "You are given a list $L = [(a_1, b_1), \\dots, (a_n, b_n)]$ of $n$ pairs of integers.\n",
    "For any two pairs $(a_i, b_i) \\in L$ and $(a_j, b_j) \\in L$ such that $1\\leq i \\leq j \\leq n$, we have (at least) one of three cases:\n",
    "* $a_i = a_j$ and $b_i = b_j$\n",
    "* $a_i < a_j$\n",
    "* $b_i < b_j$\n",
    "\n",
    "For example, the list $L=[(1, 2), (1, 1)]$ would not be valid.\n",
    "An example of a valid list is"
   ]
  },
  {
   "cell_type": "code",
   "execution_count": 6,
   "metadata": {},
   "outputs": [],
   "source": [
    "L = [(0,1), (1, 0), (0, 1), (1, 1), (1, 2), (3, 1), (3, 1), (2, 2), (2, 3), (3, 2), (2, 3), (4, 3), (3, 4), (4, 4), (4, 5), (5, 5)]"
   ]
  },
  {
   "cell_type": "markdown",
   "metadata": {},
   "source": [
    "which you can use in your experiments."
   ]
  },
  {
   "cell_type": "markdown",
   "metadata": {},
   "source": [
    "## Question 3.1:\n",
    "Suppose I know the middle pair $(a, b)$ of the non-empty list $L$, and I am looking for the pair $(x, y)$.\n",
    "\n",
    "In what case(s), if any, can I stop the search?"
   ]
  },
  {
   "cell_type": "markdown",
   "metadata": {},
   "source": [
    "We can stop the search if x = a and y = b or otherwise.\n",
    "\n",
    "$$if x == a & y == b $$\n",
    "\n",
    "***"
   ]
  },
  {
   "cell_type": "markdown",
   "metadata": {},
   "source": [
    "In what case(s), if any, can I determine that $(x, y)$ cannot be found in some part of $L$? Can this speed-up the search?"
   ]
  },
  {
   "cell_type": "markdown",
   "metadata": {},
   "source": [
    "We can speed up the search if we determine the tuple exists within the range of the list.\n",
    "Check if the tuple is lesser than the first element in the list and if the tuple is greater than the last element of the list. \n",
    "\n",
    "$$if (x,y) < L[0]: $$\n",
    "\n",
    "$$ x < L[0][0] && y < L[0][1] $$\n",
    "\n",
    "$$if (x,y) > L[len(L)-1]: $$\n",
    "\n",
    "$$ x > L[len(L)-1][0] && y > L[len(L)-1][1] $$\n",
    "\n",
    "***"
   ]
  },
  {
   "cell_type": "markdown",
   "metadata": {},
   "source": [
    "## Question 3.2\n",
    "Write a recursive function that applies the divide-and-conquer paradigm to search if a given pair of values $(x, y)$ is in $L$.\n",
    " The prototype of the function should be <em>exactly</em> as follows:"
   ]
  },
  {
   "cell_type": "code",
   "execution_count": 7,
   "metadata": {},
   "outputs": [],
   "source": [
    "def pair_search(l, p):\n",
    "    found = False\n",
    "    calls = 1\n",
    "    if len(l) == 0:\n",
    "        found = False\n",
    "        return found,calls\n",
    "    # defining lower extreme cases and rejecting the search item before computing.\n",
    "    if p[0] < l[0][0] and p[1] < l[0][1]:\n",
    "        found = False\n",
    "    # defining upper extreme cases and rejecting the search item before computing.\n",
    "    if p[0] > l[len(l)-1][0] and p[1] > l[len(l)-1][1]:\n",
    "        found = False\n",
    "    \n",
    "    # find the mid to divide the given list.\n",
    "    mid = (len(l))//2 \n",
    "    \n",
    "    # success condition.\n",
    "    if p[0] == l[mid][0] and p[1] == l[mid][1]:\n",
    "        found = True\n",
    "    \n",
    "    #lower bound recursion.\n",
    "    elif p[0] < l[mid][0] and p[1] < l[mid][1]:\n",
    "        calls += 1\n",
    "        return pair_search(l[:mid],p)\n",
    "    \n",
    "    #upper bound recursion.\n",
    "    elif p[0] > l[mid][0] and p[1] > l[mid][1]:\n",
    "        calls += 1\n",
    "        return pair_search(l[mid+1:],p)\n",
    "    \n",
    "    # if the item has different conditions for first and last element.\n",
    "    elif p[0] <= l[mid][0] and p[1] >= l[mid][1]:\n",
    "        calls += 1\n",
    "        a = pair_search(l[mid+1:],p)\n",
    "        if a[0] == True:\n",
    "            found = True\n",
    "            return found,calls\n",
    "        else:\n",
    "            calls += 1\n",
    "            return pair_search(l[:mid],p),calls\n",
    "     \n",
    "    # if the item has different conditions for first and last element.\n",
    "    elif p[0] >= l[mid][0] and p[1] <= l[mid][1]:\n",
    "        calls += 1\n",
    "        b = pair_search(l[:mid],p)\n",
    "        if b[0] == True:\n",
    "            found = True\n",
    "            return found,calls\n",
    "        else:\n",
    "            calls += 1\n",
    "            return pair_search(l[mid+1:],p)\n",
    "    # default fail case.   \n",
    "    else:\n",
    "        found = False\n",
    "\n",
    "    return found,calls"
   ]
  },
  {
   "cell_type": "markdown",
   "metadata": {},
   "source": [
    "The function returns a boolean to indicate whether the pair $p$ was found in $l$, and an integer $calls$ to indicate the number of calls that were made to $pair\\_search$ to obtain the answer."
   ]
  },
  {
   "cell_type": "markdown",
   "metadata": {},
   "source": [
    "Test your function with the code below."
   ]
  },
  {
   "cell_type": "code",
   "execution_count": 8,
   "metadata": {},
   "outputs": [
    {
     "name": "stdout",
     "output_type": "stream",
     "text": [
      "Found (0, 1) 1 time(s) in 1 calls\n",
      "Found (1, 0) 1 time(s) in 2 calls\n",
      "Found (0, 1) 1 time(s) in 1 calls\n",
      "Found (1, 1) 1 time(s) in 2 calls\n",
      "Found (1, 2) 1 time(s) in 1 calls\n",
      "Found (3, 1) 1 time(s) in 2 calls\n",
      "Found (3, 1) 1 time(s) in 2 calls\n",
      "Found (2, 2) 1 time(s) in 2 calls\n",
      "Found (2, 3) 1 time(s) in 1 calls\n",
      "Found (3, 2) 1 time(s) in 2 calls\n",
      "Found (2, 3) 1 time(s) in 1 calls\n",
      "Found (4, 3) 1 time(s) in 2 calls\n",
      "Found (3, 4) 1 time(s) in 1 calls\n",
      "Found (4, 4) 1 time(s) in 2 calls\n",
      "Found (4, 5) 1 time(s) in 1 calls\n",
      "Found (5, 5) 1 time(s) in 1 calls\n",
      "Found (0, 0) 0 time(s) in 1 calls\n",
      "Found (2, 1) 0 time(s) in 1 calls\n",
      "Found (3, 3) 0 time(s) in 1 calls\n",
      "Found (5, 4) 0 time(s) in 1 calls\n"
     ]
    }
   ],
   "source": [
    "for item in L + [(0, 0), (2, 1), (3, 3), (5, 4)]:\n",
    "    found, calls = pair_search(L, item)\n",
    "    iteminl = item in L\n",
    "    assert found == iteminl, \"Found item {} {} time(s) instead of {}\".format(item, int(found), int(iteminl))\n",
    "    print(\"Found {} {} time(s) in {} calls\".format(item, int(iteminl), calls))"
   ]
  },
  {
   "cell_type": "markdown",
   "metadata": {},
   "source": [
    "## Question 3.3\n",
    "What is the worst-case O() complexity of the function you wrote? Prove your answer."
   ]
  },
  {
   "cell_type": "markdown",
   "metadata": {},
   "source": [
    "From the above program, we see that:\n",
    "$$ T(n) = T(n/2) + c $$\n",
    "Now we know, \n",
    "$$ T(n/2) = T(n/4) + c $$\n",
    "Substituting back to the first equation,\n",
    "$$ T(n) = T(n/4) + 2c $$\n",
    "The list is divided in halves to check for the item in a large list. We say the division to take place k times.\n",
    "\n",
    "Therefore,\n",
    "$$ T(n) = T(n/2^{k}) + kc $$\n",
    "\n",
    "Now, if the list 'n' is divided k times, We can find k interms of n.\n",
    "\n",
    "If $$ n = 2^{k} $$\n",
    "Then $$ k = \\log_2 n $$\n",
    "\n",
    "Substituting in the main equation:\n",
    "$$ T(n) = T(2^{k}/2^{k}) + (\\log_2 n)c $$\n",
    "$$ T(n) = T(1) + (\\log_2 n)c $$\n",
    "$$ T(n) = c + (\\log_2 n)c $$\n",
    "$$ T(n) = c(1 + (\\log_2 n)) $$\n",
    "Now, we clearly see the Big-O,\n",
    "$$ Big-O  ==  O(\\log_2 n) $$\n",
    "\n",
    "***"
   ]
  },
  {
   "cell_type": "markdown",
   "metadata": {},
   "source": [
    "# Exercise 4: Maximising sublist"
   ]
  },
  {
   "cell_type": "markdown",
   "metadata": {},
   "source": [
    "Given a list $L = [x_1, \\dots, x_n]$ of $n$ non-negative integers, we are interested in sublists $S$ of $L$ that satisfy\n",
    "* for all $i \\in \\{1, \\dots, n-1\\}, x_i \\in S$ implies $x_{i+1} \\not\\in S$,\n",
    "* for all $i \\in \\{2, \\dots, n\\}, x_i \\in S$ implies $x_{i-1} \\not\\in S$.  \n",
    "\n",
    "In other words, two items that are adjacent in the list cannot both be picked in the sublist $S$."
   ]
  },
  {
   "cell_type": "markdown",
   "metadata": {},
   "source": [
    "For simplicity, we suppose that the input list $L$ does not contain repeated values, i.e. $\\forall i, j \\in \\{1, \\dots, n\\}, i \\neq j, x_i \\neq x_j$."
   ]
  },
  {
   "cell_type": "markdown",
   "metadata": {},
   "source": [
    "## Question 4.1\n",
    "Write a divide-and-conquer program that outputs a sublist $S$ that maximises $\\sum_{x \\in S} x$, the sum of its elements.\n",
    "For instance, if "
   ]
  },
  {
   "cell_type": "code",
   "execution_count": 9,
   "metadata": {},
   "outputs": [],
   "source": [
    "L = [1, 0, 5, 3, 2, 7, 9, 15, 6, 4, 13]"
   ]
  },
  {
   "cell_type": "markdown",
   "metadata": {},
   "source": [
    "then a sublist with maximum sum is"
   ]
  },
  {
   "cell_type": "code",
   "execution_count": 10,
   "metadata": {},
   "outputs": [],
   "source": [
    " S = [1, 5, 7, 15, 13]"
   ]
  },
  {
   "cell_type": "markdown",
   "metadata": {},
   "source": [
    "Write the function below using <em>exactly</em> this prototype:"
   ]
  },
  {
   "cell_type": "code",
   "execution_count": 11,
   "metadata": {},
   "outputs": [],
   "source": [
    "def bestsublist(l):\n",
    "    sublist = []\n",
    "    \n",
    "    # first base case.\n",
    "    if len(l) == 0 or len(l) ==1:\n",
    "        return l\n",
    "    \n",
    "    # second base case.\n",
    "    if len(l) == 2:\n",
    "        sublist = [max(l)]\n",
    "        return sublist\n",
    "    \n",
    "    # find the mid factor to divide the given list.\n",
    "    mid = len(l)//2\n",
    "    \n",
    "    # left segment of the list\n",
    "    left = l[:mid]\n",
    "    \n",
    "    # right segment of the list\n",
    "    right = l[mid:]\n",
    "\n",
    "    # left- least element of the division.\n",
    "    div_left = bestsublist(left)\n",
    "    \n",
    "    ## right- least element of the division\n",
    "    div_right = bestsublist(right)\n",
    "\n",
    "    # check for adjacent position of the maximum returned    \n",
    "    if div_left[-1] == l[mid-1] and div_right[0] == l[mid]:\n",
    "        c = bestsublist(left[:-1])\n",
    "        d = bestsublist(right[1:])\n",
    "        \n",
    "        # check for the highest yielding sum to be considered.\n",
    "        if sum(div_left) + sum(d) > sum(div_right) + sum(c):\n",
    "            div_left.extend(d)\n",
    "            sublist = div_left\n",
    "            return sublist  # return the extended list of maximum yielding sum.\n",
    "        else:\n",
    "            c.extend(div_right)\n",
    "            sublist = c\n",
    "            return sublist # return the extended list of maximum yielding sum.\n",
    "    \n",
    "    # return the obtained sublist if the position is not adjacent.\n",
    "    else:\n",
    "        div_left.extend(div_right)\n",
    "        return div_left\n",
    "    \n",
    "\n",
    "    return sublist"
   ]
  },
  {
   "cell_type": "markdown",
   "metadata": {},
   "source": [
    "Test your code below:"
   ]
  },
  {
   "cell_type": "code",
   "execution_count": 12,
   "metadata": {},
   "outputs": [],
   "source": [
    "assert sum(bestsublist([])) == 0"
   ]
  },
  {
   "cell_type": "code",
   "execution_count": 13,
   "metadata": {},
   "outputs": [],
   "source": [
    "assert sum(bestsublist([5])) == 5"
   ]
  },
  {
   "cell_type": "code",
   "execution_count": 14,
   "metadata": {},
   "outputs": [],
   "source": [
    "assert sum(bestsublist([5, 2])) == 5"
   ]
  },
  {
   "cell_type": "code",
   "execution_count": 15,
   "metadata": {},
   "outputs": [],
   "source": [
    "assert sum(bestsublist([5, 2, 8])) == 5 + 8"
   ]
  },
  {
   "cell_type": "code",
   "execution_count": 16,
   "metadata": {},
   "outputs": [],
   "source": [
    "assert sum(bestsublist([5, 2, 1, 8])) == 5 + 8"
   ]
  },
  {
   "cell_type": "code",
   "execution_count": 17,
   "metadata": {},
   "outputs": [],
   "source": [
    "assert sum(bestsublist([5, 2, 1, 8, 10])) == 5 + 1 +10"
   ]
  },
  {
   "cell_type": "code",
   "execution_count": 18,
   "metadata": {},
   "outputs": [],
   "source": [
    "assert sum(bestsublist(L)) == sum(S) == 41"
   ]
  },
  {
   "cell_type": "code",
   "execution_count": 19,
   "metadata": {},
   "outputs": [],
   "source": [
    "assert sum(bestsublist([max(L) + 1 + i for i in L] + L)) == 172"
   ]
  },
  {
   "cell_type": "code",
   "execution_count": 20,
   "metadata": {},
   "outputs": [],
   "source": [
    "assert sum(bestsublist([max(L) + 1 + i for i in L] + L + [2*(max(L) + 1) + i for i in L])) == 391"
   ]
  },
  {
   "cell_type": "markdown",
   "metadata": {},
   "source": [
    "## Question 4.2\n",
    "Give the $O()$ complexity of the function you wrote."
   ]
  },
  {
   "cell_type": "markdown",
   "metadata": {},
   "source": [
    "We arive at,\n",
    "$$ Big-O == O(n + n\\log n) $$\n",
    "\n",
    "Therefore,\n",
    "\n",
    "$$ Big-O == O(n\\log n) $$\n",
    "\n",
    "The complexity of the above written program is **O(nlogn).**\n",
    "\n",
    "***"
   ]
  },
  {
   "cell_type": "markdown",
   "metadata": {},
   "source": [
    "Is there an algorithm that does not use the divide-and-conquer paradigm to answer Question 1 and that has a better $O()$ complexity? Prove your answer."
   ]
  },
  {
   "cell_type": "markdown",
   "metadata": {},
   "source": [
    "**Yes,** The below algorithm can just iterate to calculate the maximum sum of the list with given condition and this list can further be iterated to obtain the item from the original list.\n"
   ]
  },
  {
   "cell_type": "code",
   "execution_count": 21,
   "metadata": {},
   "outputs": [],
   "source": [
    "def bestsublist_iter(l):\n",
    "    sublist = []\n",
    "    sumlist = [None]* (len(l)+1)\n",
    "    n = (len(l))\n",
    "    sumlist[n] = 0\n",
    "    \n",
    "    # check for the sum in the list and sumlist\n",
    "    for i in range(n-1, -1, -1):\n",
    "        sumlist[i] = max( l[i] + sumlist[min(i+2, n)], sumlist[min(i+1, n)])\n",
    "    i = 0\n",
    "\n",
    "    # attain the original item form the sumlist comparision\n",
    "    while i < n:\n",
    "        if sumlist[i] > sumlist[i+1]:\n",
    "            sublist.append(l[i])\n",
    "            i += 2\n",
    "        else:\n",
    "            i += 1\n",
    "    return sublist"
   ]
  },
  {
   "cell_type": "code",
   "execution_count": 22,
   "metadata": {},
   "outputs": [
    {
     "data": {
      "text/plain": [
       "[1, 5, 7, 15, 13]"
      ]
     },
     "execution_count": 22,
     "metadata": {},
     "output_type": "execute_result"
    }
   ],
   "source": [
    "bestsublist_iter(L)"
   ]
  },
  {
   "cell_type": "markdown",
   "metadata": {},
   "source": [
    "From the above program, \n",
    "we see the complexity is $$ complexity == n + n + c $$ \n",
    "\n",
    "Therefore,\n",
    "\n",
    "$$ Big-O == O(n) $$\n",
    "O(n) is the complexity for the better algorithm.\n",
    "***"
   ]
  },
  {
   "cell_type": "markdown",
   "metadata": {},
   "source": [
    "# Exercise 5: Dominant primes"
   ]
  },
  {
   "cell_type": "markdown",
   "metadata": {},
   "source": [
    "Given a positive integer $x$ and its decimal notation $d_nd_{n-1}\\dots d_1d_0$ ($d_i$ corresponds to a digit), we say $x$ is a dominant prime if and only if:\n",
    "* $x$ is prime,\n",
    "* for any index $k \\in \\{0, \\dots, n\\}, d_k\\dots d_0$ is prime, \n",
    "* for any digit $d_{n+1} \\in \\{1, \\dots, 9\\}$, $d_{n+1}d_n\\dots d_0$ is *not* prime.\n",
    "\n",
    "For example:\n",
    "* 2 is a dominant prime, as it is prime, and any number ending by 2 is divisible by 2, and therefore not prime.\n",
    "* 3 is not a dominant prime, since 13 is prime.\n",
    "* 7937 is also a dominant prime, as 7937, 937, 37 and 7 are prime, and 17937, 27937, 37937, 47937, 57937, 67937, 77937, 87937, 97937 are not prime."
   ]
  },
  {
   "cell_type": "markdown",
   "metadata": {},
   "source": [
    "## Question 5.1\n",
    "Write a recursive algorithm which enumerates dominant primes. Your algorithm should print dominant primes as it finds them (rather than at the end).\n",
    "\n",
    "We provide a simple function to test prime numbers. You may choose not to use it."
   ]
  },
  {
   "cell_type": "code",
   "execution_count": 23,
   "metadata": {},
   "outputs": [],
   "source": [
    "def test_prime(n):\n",
    "    k = 2\n",
    "    maxk = int(math.sqrt(n))\n",
    "    while k <= maxk:\n",
    "        if n % k == 0:\n",
    "            return False\n",
    "        if k == 2:\n",
    "            k += 1\n",
    "        else:\n",
    "            k += 2\n",
    "    return (n is not 1)"
   ]
  },
  {
   "cell_type": "markdown",
   "metadata": {},
   "source": [
    "Write your algorithm below. By default we limit the dominant primes we are looking for to a maximum value of $10^{12}$. Note that it means that you may not be able to determine if some numbers are dominant primes. In this case, don't print them.\n",
    "With $maxprime=10^{12}$, the expected run time should be around or less than a minute. Performance will be taken into account in the mark. Furthermore, your function (or any part of your code) should:\n",
    "* not store hard-coded/precomputed primes,\n",
    "* not use more than constant-size memory (i.e. it should be independent of the input),\n",
    "* not necessarily print the numbers in any particular order."
   ]
  },
  {
   "cell_type": "code",
   "execution_count": 24,
   "metadata": {},
   "outputs": [],
   "source": [
    "# importing math function to compute the log funtion.\n",
    "import math\n",
    "\n",
    "# function to get dominant prime.\n",
    "def dominant_prime_finder(maxprime=10**12):\n",
    "    list = []\n",
    "    # find the primes in first 10 digits.\n",
    "    for i in range(1,10):\n",
    "        \n",
    "        # check for prime test from the function provided.\n",
    "        if test_prime(i) == True:\n",
    "            list.append(i) # append the result to a list.\n",
    "    \n",
    "    # pass the final result to another function to perform the actual recursive process.\n",
    "    method(list,maxprime)\n",
    "\n",
    "# Function to perform the recursive solution.\n",
    "def method(list,maxprime):\n",
    "\n",
    "    for i in list:\n",
    "        a = int(math.log10(i)) + 1 #check number of digits in the input.\n",
    "        \n",
    "        # condition for the number of digits in input is less than the max prime variable.\n",
    "        if a <= int(math.log10(maxprime)):\n",
    "            list2 = []\n",
    "            # iter for digit before the number.\n",
    "            for j in range(1,10):\n",
    "                n = (j*(10**a)) + i # check for prime with aditional digit before the number.\n",
    "                if test_prime(n) == True: # check for prime with the given function.\n",
    "                    list2.append(n) #append the result to a list.\n",
    "            \n",
    "            # if the list is empty, print the previous prime.\n",
    "            if len(list2) == 0:\n",
    "                    print(i)\n",
    "            \n",
    "            # recursively call the list for dominant prime check.\n",
    "            else:\n",
    "                method(list2,maxprime)"
   ]
  },
  {
   "cell_type": "markdown",
   "metadata": {},
   "source": [
    "## Question 5.2\n",
    "Find and write below a dominant prime with exactly 20 digit."
   ]
  },
  {
   "cell_type": "markdown",
   "metadata": {},
   "source": [
    "A dominant prime with exactly 20 digit is \"**36484957213536676883**\".\n",
    "\n",
    "***"
   ]
  }
 ],
 "metadata": {
  "kernelspec": {
   "display_name": "Python 3",
   "language": "python",
   "name": "python3"
  },
  "language_info": {
   "codemirror_mode": {
    "name": "ipython",
    "version": 3
   },
   "file_extension": ".py",
   "mimetype": "text/x-python",
   "name": "python",
   "nbconvert_exporter": "python",
   "pygments_lexer": "ipython3",
   "version": "3.6.4"
  }
 },
 "nbformat": 4,
 "nbformat_minor": 2
}
