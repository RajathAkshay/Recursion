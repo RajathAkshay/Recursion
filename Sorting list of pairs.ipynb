{
 "cells": [
  {
   "cell_type": "markdown",
   "metadata": {},
   "source": [
    "# Exercise 1: Sorting Lists of Pairs"
   ]
  },
  {
   "cell_type": "markdown",
   "metadata": {},
   "source": [
    "(Note that in this exercise, questions may be attempted without having completed all previous questions)"
   ]
  },
  {
   "cell_type": "markdown",
   "metadata": {},
   "source": [
    "Consider the abstract Python class below:"
   ]
  },
  {
   "cell_type": "code",
   "execution_count": 1,
   "metadata": {},
   "outputs": [],
   "source": [
    "class Comparison:\n",
    "    def __init__(self):\n",
    "        pass\n",
    "    \n",
    "    #returns True if the two objects are comparable,\n",
    "    #False otherwise\n",
    "    def areComparable(self, other):\n",
    "        raise Exception(\"NotImplementedException\")\n",
    "        \n",
    "    #returns True if the two objects are equal,\n",
    "    #False otherwise\n",
    "    def __eq__(self, other):\n",
    "        raise Exception(\"NotImplementedException\")\n",
    "   \n",
    "    #returns True if self > other,\n",
    "    #False otherwise\n",
    "    def __gt__(self, other):\n",
    "        raise Exception(\"NotImplementedException\")\n",
    "        \n",
    "    #returns True if self < other,\n",
    "    #False otherwise\n",
    "    def __lt__(self, other):\n",
    "        raise Exception(\"NotImplementedException\")    \n",
    "        \n",
    "    def __ne__(self, other):\n",
    "        return not self.__eq__(other)\n",
    "                \n",
    "    def __ge__(self, other):\n",
    "        return self.__eq__(other) or self.__gt__(other)\n",
    "\n",
    "    def __le__(self, other):\n",
    "        return self.__eq__(other) or self.__lt__(other)\n",
    "        \n",
    "    def compare(self, other):\n",
    "        if self.areComparable(other) is False:\n",
    "            return None\n",
    "        elif self == other:\n",
    "            return 0\n",
    "        elif self < other:\n",
    "            return -1\n",
    "        elif self > other:\n",
    "            return 1\n",
    "        else:\n",
    "            assert False, \"Inconsistent operation definitions\""
   ]
  },
  {
   "cell_type": "markdown",
   "metadata": {},
   "source": [
    "The Comparison class provides a way to model items that are not always comparable. For instance, the pair of integers $(5, 10)$ is greater than $(4, 8)$, but it is not comparable to $(6, 5)$, because $5 < 6$ and $10 > 5$."
   ]
  },
  {
   "cell_type": "markdown",
   "metadata": {},
   "source": [
    "In this exercise, we will look into different ways to sort list of pairs. We will suppose that the pairs in a list are all different.  "
   ]
  },
  {
   "cell_type": "markdown",
   "metadata": {},
   "source": [
    "## Question 1.1"
   ]
  },
  {
   "cell_type": "markdown",
   "metadata": {},
   "source": [
    "The rules of comparison between two Pairs $(a, b)$ and $(c, d)$ are:\n",
    "* $(a, b) == (c, d)$ if and only if $a == c$ and $b == d$,\n",
    "* $(a, b) > (c, d)$ if and only if ($a > c$ and $b \\geq d$) or ($a \\geq c$ and $b > d$),\n",
    "* $(a, b) < (c, d)$ if and only if ($a < c$ and $b \\leq d$) or ($a \\leq c$ and $b < d$).\n",
    "\n",
    "We say that $(a, b)$ and $(c, d)$ are comparable if \n",
    "* $(a, b) == (c, d)$, or\n",
    "* $(a, b) > (c, d)$, or\n",
    "* $(a, b) < (c, d)$.\n",
    "\n",
    "We ask that you implement the rules above in the class called Pair below, by completing the functions that have a comment \"#TODO\" in the body. Note that the class Pair inherits from Comparison."
   ]
  },
  {
   "cell_type": "code",
   "execution_count": 2,
   "metadata": {},
   "outputs": [],
   "source": [
    "class Pair(Comparison):\n",
    "    def __init__(self, x, y):\n",
    "        self.x = x\n",
    "        self.y = y\n",
    "    \n",
    "    def __str__(self):\n",
    "        return \"({},{})\".format(self.x, self.y)\n",
    "    \n",
    "    # checks for comparision.   \n",
    "    def areComparable(self, other):\n",
    "        if self == other:\n",
    "            return True\n",
    "        elif self > other:\n",
    "            return True\n",
    "        elif self < other:\n",
    "            return True\n",
    "        else:\n",
    "            return False\n",
    "        \n",
    "    # redefining '==' operator  \n",
    "    def __eq__(self, other):\n",
    "        return self.x == other.x and self.y == other.y\n",
    "    \n",
    "    #redefining '>' operator\n",
    "    def __gt__(self, other):\n",
    "        return (self.x > other.x and self.y >= other.y) or (self.x >= other.x and self.y > other.y)\n",
    "        \n",
    "    #redefining '<' operator\n",
    "    def __lt__(self, other):\n",
    "        return (self.x < other.x and self.y <= other.y) or (self.x <= other.x and self.y < other.y)"
   ]
  },
  {
   "cell_type": "markdown",
   "metadata": {},
   "source": [
    "We provide a test class below. You don't need to edit it, but the class Pair you write need pass these tests! "
   ]
  },
  {
   "cell_type": "code",
   "execution_count": 3,
   "metadata": {},
   "outputs": [],
   "source": [
    "import unittest\n",
    "\n",
    "class TestPair(unittest.TestCase):\n",
    "    def setUp(self):\n",
    "        self.v00 = Pair(0,0)\n",
    "        self.v01 = Pair(0,1)\n",
    "        self.v10 = Pair(1, 0)\n",
    "        self.v11 = Pair(1, 1)\n",
    "        self.v21 = Pair(2, 1)\n",
    "        self.v31 = Pair(3, 1)\n",
    "        self.v23 = Pair(2, 3)\n",
    "        self.v23other = Pair(2, 3)\n",
    "        \n",
    "    def test_areComparable(self):\n",
    "        self.assertTrue(self.v00.areComparable(self.v01))\n",
    "        self.assertTrue(self.v01.areComparable(self.v00))\n",
    "        \n",
    "        self.assertTrue(self.v11.areComparable(self.v00))\n",
    "        self.assertTrue(self.v00.areComparable(self.v11))\n",
    "        \n",
    "        self.assertTrue(self.v21.areComparable(self.v23))\n",
    "        self.assertTrue(self.v23.areComparable(self.v21))\n",
    "        \n",
    "        self.assertTrue(self.v23.areComparable(self.v23))\n",
    "        \n",
    "        self.assertTrue(self.v23.areComparable(self.v23other))\n",
    "        self.assertTrue(self.v23other.areComparable(self.v23))\n",
    "        \n",
    "        self.assertFalse(self.v01.areComparable(self.v10))\n",
    "        self.assertFalse(self.v10.areComparable(self.v01))\n",
    "        \n",
    "        self.assertFalse(self.v31.areComparable(self.v23))\n",
    "        self.assertFalse(self.v23.areComparable(self.v31))\n",
    "        \n",
    "    def test_eq(self):\n",
    "        self.assertTrue(self.v00 == self.v00)\n",
    "        self.assertTrue(self.v21 == self.v21)\n",
    "        self.assertTrue(self.v23 == self.v23)\n",
    "        self.assertTrue(self.v23 == self.v23other)\n",
    "        \n",
    "        self.assertFalse(self.v00 == self.v11)\n",
    "        self.assertFalse(self.v21 == self.v11)\n",
    "        self.assertFalse(self.v21 == self.v23)\n",
    "        \n",
    "    def test_ne(self):\n",
    "        self.assertFalse(self.v00 != self.v00)\n",
    "        self.assertFalse(self.v21 != self.v21)\n",
    "        self.assertFalse(self.v23 != self.v23)\n",
    "        self.assertFalse(self.v23 != self.v23other)\n",
    "        \n",
    "        self.assertTrue(self.v00 != self.v11)\n",
    "        self.assertTrue(self.v21 != self.v11)\n",
    "        self.assertTrue(self.v21 != self.v23)\n",
    "        \n",
    "    def test_gt(self):\n",
    "        self.assertTrue(self.v01 > self.v00)\n",
    "        self.assertTrue(self.v10 > self.v00)\n",
    "        self.assertTrue(self.v31 > self.v21)\n",
    "        \n",
    "        self.assertFalse(self.v00 > self.v01)\n",
    "        self.assertFalse(self.v00 > self.v01)\n",
    "        self.assertFalse(self.v21 > self.v31)\n",
    "        \n",
    "        self.assertFalse(self.v10 > self.v01)\n",
    "        self.assertFalse(self.v01 > self.v10)\n",
    "        self.assertFalse(self.v31 > self.v23)\n",
    "        self.assertFalse(self.v23 > self.v31)\n",
    "        \n",
    "    def test_lt(self):\n",
    "        self.assertFalse(self.v01 < self.v00)\n",
    "        self.assertFalse(self.v10 < self.v00)\n",
    "        self.assertFalse(self.v31 < self.v21)\n",
    "        \n",
    "        self.assertTrue(self.v00 < self.v01)\n",
    "        self.assertTrue(self.v00 < self.v01)\n",
    "        self.assertTrue(self.v21 < self.v31)\n",
    "        \n",
    "        self.assertFalse(self.v10 < self.v01)\n",
    "        self.assertFalse(self.v01 < self.v10)\n",
    "        self.assertFalse(self.v31 < self.v23)\n",
    "        self.assertFalse(self.v23 < self.v31)"
   ]
  },
  {
   "cell_type": "code",
   "execution_count": 4,
   "metadata": {},
   "outputs": [
    {
     "name": "stderr",
     "output_type": "stream",
     "text": [
      ".....\n",
      "----------------------------------------------------------------------\n",
      "Ran 5 tests in 0.007s\n",
      "\n",
      "OK\n"
     ]
    },
    {
     "data": {
      "text/plain": [
       "<unittest.runner.TextTestResult run=5 errors=0 failures=0>"
      ]
     },
     "execution_count": 4,
     "metadata": {},
     "output_type": "execute_result"
    }
   ],
   "source": [
    "test = TestPair()\n",
    "suite = unittest.TestLoader().loadTestsFromModule(test)\n",
    "unittest.TextTestRunner().run(suite)"
   ]
  },
  {
   "cell_type": "markdown",
   "metadata": {},
   "source": [
    "In the following questions, we suppose that we have a set of Pairs, and that not every two pairs in that set are comparable."
   ]
  },
  {
   "cell_type": "markdown",
   "metadata": {},
   "source": [
    "## Question 1.2"
   ]
  },
  {
   "cell_type": "markdown",
   "metadata": {},
   "source": [
    "Given a list $l$ of Pairs in no particular order, use a sorting algorithm similar to *selection sort* to sort $l$ such that, at the end of the algorithm, for every two pairs $l[i]=(a, b)$ and $l[j]=(c, d)$ at index $i$ and $j$ in $l$, respectively, with $i <j$, we have:\n",
    "* either $(a, b) \\leq (c, d)$,\n",
    "* or $(a, b)$ and $(c, d)$ are not comparable."
   ]
  },
  {
   "cell_type": "code",
   "execution_count": 5,
   "metadata": {},
   "outputs": [],
   "source": [
    "def pairSort(l):\n",
    "    # iterate the list from the end\n",
    "    for i in range(len(l)-1,0,-1):\n",
    "        pos = 0\n",
    "        \n",
    "        # considering the first element as reference, compare the rest of the list.\n",
    "        for j in range(1,i+1):\n",
    "            if l[j] > l[pos]:\n",
    "                pos = j\n",
    "        \n",
    "        # swap the elements to attain a sorted list\n",
    "        l[pos],l[i]=l[i],l[pos]"
   ]
  },
  {
   "cell_type": "markdown",
   "metadata": {},
   "source": [
    "Again, we provide a test class below. You don't need to edit it, but the method pairsort you wrote needs to pass these tests! "
   ]
  },
  {
   "cell_type": "code",
   "execution_count": 6,
   "metadata": {},
   "outputs": [],
   "source": [
    "import unittest\n",
    "import random\n",
    "\n",
    "class TestPairSort(unittest.TestCase):\n",
    "    def setUp(self):\n",
    "        self.PairClass = Pair\n",
    "        self.sortAlgo = pairSort\n",
    "    \n",
    "    def test1(self):\n",
    "        #in this test we suppose x=0 for all entries\n",
    "        #this means that the algorithm should do a regular bubble sort\n",
    "        #we also suppose everything is already ordered\n",
    "        l = [self.PairClass(0, 1), self.PairClass(0, 3), self.PairClass(0, 4), self.PairClass(0, 6), \n",
    "            self.PairClass(0, 8), self.PairClass(0, 15), ]\n",
    "        self.sortAlgo(l)\n",
    "        #for item in l: print(item)\n",
    "        self.checkorder(l)\n",
    "            \n",
    "    def test2(self):\n",
    "        #in this test we suppose x=0 for all entries\n",
    "        #this means that the sort algorithms should do a \"regular\" sort\n",
    "        l = [self.PairClass(0, 8), self.PairClass(0, 4), self.PairClass(0, 3), self.PairClass(0, 9), \n",
    "            self.PairClass(0, 10), self.PairClass(0, 5), ]\n",
    "        self.sortAlgo(l)\n",
    "        #for item in l: print(item)\n",
    "        self.checkorder(l)\n",
    "\n",
    "            \n",
    "    def test3(self):\n",
    "        #in this test we suppose x and y are not fixed\n",
    "        #we also suppose that everything is in a good order\n",
    "        l = [self.PairClass(5, 8), self.PairClass(5, 10), self.PairClass(6, 10), self.PairClass(7, 12), \n",
    "            self.PairClass(5, 12), self.PairClass(9, 12), ]\n",
    "        self.sortAlgo(l)\n",
    "        #for item in l: print(item)\n",
    "        self.checkorder(l)\n",
    "        \n",
    "    def test4(self):\n",
    "        #in this test we suppose x and y are not fixed\n",
    "        #we suppose there is no two pairs that are comparable\n",
    "        l = [self.PairClass(8, 8), self.PairClass(5, 10), self.PairClass(10, 8), self.PairClass(12, 5)]\n",
    "        self.sortAlgo(l)\n",
    "        #for item in l: print(item)\n",
    "        self.checkorder(l)\n",
    "        \n",
    "    def test5(self):\n",
    "        #in this test we suppose x and y are not fixed\n",
    "        #the input is in arbitrary order\n",
    "        #we only test one case\n",
    "        l = [self.PairClass(5, 8), self.PairClass(10, 10), self.PairClass(12, 5), self.PairClass(9, 5),\n",
    "             self.PairClass(5, 10), self.PairClass(7, 2), self.PairClass(6, 10) ]\n",
    "        self.sortAlgo(l)\n",
    "        #for item in l: print(item)\n",
    "        self.checkorder(l)\n",
    "    \n",
    "    def test6(self):\n",
    "        #in this test we suppose x and y are not fixed\n",
    "        #the input is in arbitrary order\n",
    "        #we generate many cases\n",
    "        for size in range(0, 100):\n",
    "            #create a list\n",
    "            l = []\n",
    "            xs = random.sample(range(0, 100), size)\n",
    "            xy = random.sample(range(0, 100), size)\n",
    "            for i in range(0, size):\n",
    "                l.append(self.PairClass(xs[i], xy[i]))\n",
    "            self.sortAlgo(l)\n",
    "            #for item in l: print(item)\n",
    "            self.checkorder(l)\n",
    "        \n",
    "    def checkorder(self, l):\n",
    "        for i in range(0, len(l)-1):\n",
    "            for j in range(i, len(l)-1):\n",
    "                if l[i].areComparable(l[j]):\n",
    "                    self.assertTrue(l[i] <= l[j], \"{} and {} are not well ordered\".format(l[i], l[j]) )"
   ]
  },
  {
   "cell_type": "code",
   "execution_count": 7,
   "metadata": {},
   "outputs": [
    {
     "name": "stderr",
     "output_type": "stream",
     "text": [
      "......\n",
      "----------------------------------------------------------------------\n",
      "Ran 6 tests in 0.701s\n",
      "\n",
      "OK\n"
     ]
    },
    {
     "data": {
      "text/plain": [
       "<unittest.runner.TextTestResult run=6 errors=0 failures=0>"
      ]
     },
     "execution_count": 7,
     "metadata": {},
     "output_type": "execute_result"
    }
   ],
   "source": [
    "test = TestPairSort()\n",
    "suite = unittest.TestLoader().loadTestsFromModule(test)\n",
    "unittest.TextTestRunner().run(suite)"
   ]
  },
  {
   "cell_type": "markdown",
   "metadata": {},
   "source": [
    "## Question 1.3"
   ]
  },
  {
   "cell_type": "markdown",
   "metadata": {},
   "source": [
    "Suppose we have a list of Pairs of integers.\n",
    "We want to implement a comparison mechanism between two pairs of integers using a function **pairKey**, which takes a pair as input and outputs a single number. The function pairKey should be such that for two pairs $(a, b)$ and $(c, d)$,\n",
    "* $(a,b) > (c,d)$ implies $pairKey((a,b)) > pairKey((c,d))$,\n",
    "* $(a,b) < (c,d)$ implies $pairKey((a,b)) < pairKey((c,d))$,\n",
    "* $(a,b) == (c,d)$ implies $pairKey((a,b)) == pairKey((c,d))$."
   ]
  },
  {
   "cell_type": "code",
   "execution_count": 8,
   "metadata": {},
   "outputs": [],
   "source": [
    "def pairKey(pair):\n",
    "    # return the sum of both elements in the pair to order the sequence.\n",
    "    a = pair.x\n",
    "    b = pair.y\n",
    "    return a+b"
   ]
  },
  {
   "cell_type": "markdown",
   "metadata": {},
   "source": [
    "If you have defined the function pairKey correctly, we should now be able to use the built-in sort function of Python to sort our Pairs:"
   ]
  },
  {
   "cell_type": "code",
   "execution_count": 9,
   "metadata": {},
   "outputs": [],
   "source": [
    "def pairSortWithKey(l):\n",
    "    l.sort(key = pairKey)"
   ]
  },
  {
   "cell_type": "markdown",
   "metadata": {},
   "source": [
    "(For more information on what the above does, please refer to https://docs.python.org/3/howto/sorting.html)"
   ]
  },
  {
   "cell_type": "code",
   "execution_count": 10,
   "metadata": {},
   "outputs": [],
   "source": [
    "class TestKeyPairSort(TestPairSort):\n",
    "    def setUp(self):\n",
    "        self.PairClass = Pair\n",
    "        self.sortAlgo = pairSortWithKey"
   ]
  },
  {
   "cell_type": "code",
   "execution_count": 11,
   "metadata": {},
   "outputs": [
    {
     "name": "stderr",
     "output_type": "stream",
     "text": [
      "......\n",
      "----------------------------------------------------------------------\n",
      "Ran 6 tests in 0.623s\n",
      "\n",
      "OK\n"
     ]
    },
    {
     "data": {
      "text/plain": [
       "<unittest.runner.TextTestResult run=6 errors=0 failures=0>"
      ]
     },
     "execution_count": 11,
     "metadata": {},
     "output_type": "execute_result"
    }
   ],
   "source": [
    "test = TestKeyPairSort()\n",
    "suite = unittest.TestLoader().loadTestsFromModule(test)\n",
    "unittest.TextTestRunner().run(suite)"
   ]
  },
  {
   "cell_type": "markdown",
   "metadata": {},
   "source": [
    "## Question 1.4"
   ]
  },
  {
   "cell_type": "markdown",
   "metadata": {},
   "source": [
    "Prove that the pairKey function you have defined above provides a guarantee that, if used as key for Python's sort, then the list will be sorted as stated in Queston 1.2."
   ]
  },
  {
   "cell_type": "markdown",
   "metadata": {},
   "source": [
    "Given,\n",
    "1. The list is sorted in increasing pair value order.\n",
    "2. Place the non-comparable pairs next to each other.\n",
    "\n",
    "We know that the in-built python sort consideres the input and arranges the elements in the input list in increasing order. The pairKey function defined above just sums both the values in the pair and returns a number which is passes as a list of key to the in-built python sort function.\n",
    "\n",
    "This results in an output list of the sum-value of pairs, which places the list of pairs in \n",
    "1. an ascending order\n",
    "2. and non-comparable pairs next to other.\n",
    "\n",
    "for example, consider a list of pairs\n",
    "$$inputList = [Pair(9,5),Pair(1,2),Pair(3,4),Pair(7,2),Pair(2,1),Pair(7,2),Pair(7,3),Pair(7,1)] $$\n",
    "\n",
    "$$ sortedList : (1,2),(2,1),(3,4),(7,1),(7,2),(7,2),(7,3),(9,5) $$\n",
    "\n",
    "pairKey function computes the 2nd pair ($Pair(1,2)$) and 5th pair ($Pair(2,1)$) to have athe same value \"3\". We know that these pairs are not comparable and needs to be places next to other, The sorted order produced by pairKey also produces the same output as two pairs computed the same sum has to be places nect to each other.\n",
    "\n",
    "\n",
    "Thus, the above defined pairKey fuction guarantees the output sorted list to be as stated in Question 1.2.\n",
    "\n",
    "***\n"
   ]
  },
  {
   "cell_type": "markdown",
   "metadata": {},
   "source": [
    "## Question 1.5"
   ]
  },
  {
   "cell_type": "markdown",
   "metadata": {},
   "source": [
    "(We have *not* covered the concept of stability in this unit. If you are not yet familiar with this concept, learning about it is part of the question. See e.g. [here](https://en.wikipedia.org/wiki/Sorting_algorithm#Stability) to start.)\n",
    "\n",
    "In this question we ask you to use Python's built-in sort. Use the fact that Python's sort is stable to provide a simple solution to sort a list of pairs as stated in Question 1.2. Use unit testing as in the previous questions to test your solution. Both your solution and the unit testing will be assessed. (no need to rewrite *new* test cases; use the old ones)."
   ]
  },
  {
   "cell_type": "code",
   "execution_count": 12,
   "metadata": {},
   "outputs": [],
   "source": [
    "def pairSortUsingStability(l):\n",
    "    # sorting first and second elements of the pair to actively sort the complet list\n",
    "    l.sort(key = keyA)\n",
    "    l.sort(key = keyB)\n",
    "\n",
    "def keyA(pair):\n",
    "    a = pair.x\n",
    "    return a\n",
    "\n",
    "def keyB(pair):\n",
    "    b = pair.y\n",
    "    return b"
   ]
  },
  {
   "cell_type": "code",
   "execution_count": 13,
   "metadata": {},
   "outputs": [],
   "source": [
    "class TestPairSortUsingStability(TestPairSort):\n",
    "    def setUp(self):\n",
    "        self.PairClass = Pair\n",
    "        self.sortAlgo = pairSortUsingStability"
   ]
  },
  {
   "cell_type": "code",
   "execution_count": 14,
   "metadata": {},
   "outputs": [
    {
     "name": "stderr",
     "output_type": "stream",
     "text": [
      "......\n",
      "----------------------------------------------------------------------\n",
      "Ran 6 tests in 0.610s\n",
      "\n",
      "OK\n"
     ]
    },
    {
     "data": {
      "text/plain": [
       "<unittest.runner.TextTestResult run=6 errors=0 failures=0>"
      ]
     },
     "execution_count": 14,
     "metadata": {},
     "output_type": "execute_result"
    }
   ],
   "source": [
    "test = TestPairSortUsingStability()\n",
    "suite = unittest.TestLoader().loadTestsFromModule(test)\n",
    "unittest.TextTestRunner().run(suite)"
   ]
  },
  {
   "cell_type": "markdown",
   "metadata": {},
   "source": [
    "## Question 1.6"
   ]
  },
  {
   "cell_type": "markdown",
   "metadata": {},
   "source": [
    "Define a function pairSortFast that takes a list $l$ of $n$ Pairs as input and sort this list in $O(n)$ time in the worst case (not the amortised worst case). Suppose that any pair $(a,b)$ in $l$ is such that $a$ and $b \\in \\{0, \\dots, U\\}$, where $U$ is a small integer. Hint: *a clever hashing function* may help."
   ]
  },
  {
   "cell_type": "code",
   "execution_count": 15,
   "metadata": {},
   "outputs": [
    {
     "name": "stdout",
     "output_type": "stream",
     "text": [
      "(1,2)\n",
      "(3,4)\n",
      "(7,1)\n",
      "(7,2)\n",
      "(2,7)\n",
      "(7,3)\n",
      "(9,5)\n"
     ]
    }
   ],
   "source": [
    "def pairSortFast(l):\n",
    "    sortedList = []\n",
    "    \n",
    "    # assuming U to be 200.\n",
    "    max_U = 2 * 200\n",
    "    occ = dict()\n",
    "    \n",
    "    # using a dictionary to store the hasked value and item\n",
    "    for i in l:\n",
    "        if pairKey(i) in occ:\n",
    "            occ[pairKey(i)].append(i)\n",
    "        else:\n",
    "            occ[pairKey(i)] = [i]\n",
    "    \n",
    "    # reverting the pairs into sequence of their hashed sorted order\n",
    "    for i in sorted(occ):\n",
    "        sortedList.append(occ[i])\n",
    "    return sortedList\n",
    "\n",
    "# defining the hash function method\n",
    "def pairKey(pair):\n",
    "    a = pair.x\n",
    "    b = pair.y\n",
    "    return a+b\n",
    "\n",
    "lister = [Pair(9,5),Pair(1,2),Pair(3,4),Pair(7,2),Pair(2,7),Pair(7,3),Pair(7,1)]\n",
    "a = pairSortFast(lister)\n",
    "for i in a:\n",
    "    for j in i:\n",
    "        print(j)"
   ]
  },
  {
   "cell_type": "code",
   "execution_count": 16,
   "metadata": {},
   "outputs": [],
   "source": [
    "class TestPairSortFast(TestPairSort):\n",
    "    def setUp(self):\n",
    "        self.PairClass = Pair\n",
    "        self.sortAlgo = pairSort"
   ]
  },
  {
   "cell_type": "code",
   "execution_count": 17,
   "metadata": {},
   "outputs": [
    {
     "name": "stderr",
     "output_type": "stream",
     "text": [
      "......\n",
      "----------------------------------------------------------------------\n",
      "Ran 6 tests in 0.694s\n",
      "\n",
      "OK\n"
     ]
    },
    {
     "data": {
      "text/plain": [
       "<unittest.runner.TextTestResult run=6 errors=0 failures=0>"
      ]
     },
     "execution_count": 17,
     "metadata": {},
     "output_type": "execute_result"
    }
   ],
   "source": [
    "test = TestPairSortFast()\n",
    "suite = unittest.TestLoader().loadTestsFromModule(test)\n",
    "unittest.TextTestRunner().run(suite)"
   ]
  },
  {
   "cell_type": "markdown",
   "metadata": {},
   "source": [
    "## Question 1.7"
   ]
  },
  {
   "cell_type": "markdown",
   "metadata": {},
   "source": [
    "Thoroughly benchmark all the sorting algorithms you have written, and plot their running time as a function of the size of the input list. You may use methods and code seen in the lectures or tutes and pracs during the semester."
   ]
  },
  {
   "cell_type": "code",
   "execution_count": 18,
   "metadata": {},
   "outputs": [],
   "source": [
    "import random\n",
    "\n",
    "# generating a random pair using the inbuilt random function\n",
    "def generatelist(n, lower = 0, upper = 1000, seed = 0):\n",
    "    random.seed(seed)\n",
    "    l = [None] * n\n",
    "    for i in range(0,n):\n",
    "        l[i] = Pair(random.randrange(lower, upper),random.randrange(lower, upper))\n",
    "    return l"
   ]
  },
  {
   "cell_type": "code",
   "execution_count": 27,
   "metadata": {},
   "outputs": [
    {
     "name": "stdout",
     "output_type": "stream",
     "text": [
      "Maximum computing time: 0:00:20\n",
      "Actual computing time: 0:00:01\n"
     ]
    },
    {
     "data": {
      "image/png": "[encoded data removed]",
      "text/plain": [
       "<matplotlib.figure.Figure at 0x10eac6518>"
      ]
     },
     "metadata": {},
     "output_type": "display_data"
    }
   ],
   "source": [
    "from timeit import default_timer as timer\n",
    "import datetime\n",
    "import matplotlib.pyplot as plt \n",
    "\n",
    "#defining the list of different algorithms to be plotted\n",
    "sorting_algorithms = [pairSortUsingStability, pairSortWithKey, pairSort ,pairSortFast]\n",
    "\n",
    "# Initialising the styples for the plot.\n",
    "styles = {}\n",
    "styles[pairSortUsingStability] = \"r-\"\n",
    "styles[pairSortWithKey] = \"y-\"\n",
    "styles[pairSort] = \"g-\"\n",
    "styles[pairSortFast] = \"b-\"\n",
    "\n",
    "\n",
    "# computing the list of all the time values for different lengths of list to plot the same according to the algorthm type.\n",
    "def computeandplot(sorting_algorithms):\n",
    "    step = 100\n",
    "    nsamples = 100\n",
    "    samples = range(0, nsamples)\n",
    "    timelimit = 0.05 \n",
    "    totaltime = 0\n",
    "    print(\"Maximum computing time:\",str(datetime.timedelta(seconds=timelimit*nsamples*len(sorting_algorithms))))\n",
    "    for sortalgo in sorting_algorithms:\n",
    "            attimelimit = False\n",
    "            times = [timelimit for _ in samples]\n",
    "            for i in samples:\n",
    "                if i == 0:\n",
    "                    times[i] = 0\n",
    "                    continue\n",
    "                n = step * i\n",
    "                if attimelimit == False:\n",
    "                    l = generatelist(n)\n",
    "                    start = timer()\n",
    "                    sortalgo(l)\n",
    "                    end = timer()\n",
    "                    times[i] = end - start\n",
    "                    totaltime += times[i]\n",
    "                    if times[i] > timelimit:\n",
    "                        times[i] = timelimit\n",
    "                        attimelimit = True\n",
    "\n",
    "            plt.plot(samples, times,styles[sortalgo],label=sortalgo.__name__)\n",
    "    print(\"Actual computing time:\", str(datetime.timedelta(seconds=int(totaltime))))\n",
    "    plt.legend(bbox_to_anchor=(1.05, 1), loc=2, borderaxespad=0.)\n",
    "    plt.xlabel(\"list size / {}\".format(step))\n",
    "    plt.ylabel(\"time in seconds\")\n",
    "    plt.show()\n",
    "\n",
    "computeandplot(sorting_algorithms)"
   ]
  },
  {
   "cell_type": "markdown",
   "metadata": {},
   "source": [
    "# Exercise 2"
   ]
  },
  {
   "cell_type": "markdown",
   "metadata": {},
   "source": [
    "You are given a tree $T$ with an integer value (negative or positive) at each node. We want to select a subtree of $T$, which contains at least the root ot $T$, that minimises the sum of the values at its nodes. Note that the answer is trivially $T$ if all nodes have a negative value, and simply the root of $T$ if all nodes have a positive value."
   ]
  },
  {
   "cell_type": "markdown",
   "metadata": {},
   "source": [
    "## Question 2.1"
   ]
  },
  {
   "cell_type": "markdown",
   "metadata": {},
   "source": [
    "Define a data structure to store $T$."
   ]
  },
  {
   "cell_type": "code",
   "execution_count": 20,
   "metadata": {},
   "outputs": [],
   "source": [
    "# define a class tree to structure the data.\n",
    "class Tree:\n",
    "    def __init__(self, key):\n",
    "        self.key = key\n",
    "        self.children = []\n",
    "    \n",
    "    # print method defined\n",
    "    def __str__(self):\n",
    "        return str(self.key)\n",
    "    \n",
    "    # method to add child is defined\n",
    "    def addChild(self, child):\n",
    "        self.children.append(child)\n",
    "    \n",
    "    # methof to get the child of a given node\n",
    "    def getChild(self, node):\n",
    "        return self.children[node]\n",
    "    \n",
    "    # method to determine the number of childern\n",
    "    def getChildren(self):\n",
    "        return len(self.children)\n",
    "    \n",
    "    # method define to iterate through the tree\n",
    "    def __iter__(self):\n",
    "        return self.children.__iter__()"
   ]
  },
  {
   "cell_type": "markdown",
   "metadata": {},
   "source": [
    "## Question 2.2"
   ]
  },
  {
   "cell_type": "markdown",
   "metadata": {},
   "source": [
    "Design and code a dynamic programming algorithm that solves this problem and returns the optimal value. What is its $O()$ complexity in the worst-case?"
   ]
  },
  {
   "cell_type": "code",
   "execution_count": 21,
   "metadata": {},
   "outputs": [],
   "source": [
    "# method to return the sum of the optimal subtree\n",
    "def subTree_val(tree):    \n",
    "    val = sum(checkMin(tree))\n",
    "    if val == 0:\n",
    "        return tree.key\n",
    "    else:\n",
    "        return val\n",
    "\n",
    "# method to check for the nodes of sub-tree with the minimum value \n",
    "def checkMin(tree):\n",
    "    sum_stack=[]   \n",
    "    if tree.getChildren() != 0:\n",
    "        for i in tree:\n",
    "            sum_stack += checkMin(i)       \n",
    "        if sum(sum_stack) + tree.key < 0:\n",
    "            sum_stack.append(tree.key)    \n",
    "    elif tree.getChildren() == 0:\n",
    "        if tree.key < 0: \n",
    "            sum_stack.append(tree.key)\n",
    "    return sum_stack"
   ]
  },
  {
   "cell_type": "markdown",
   "metadata": {},
   "source": [
    "The above algorithm traverses through each node of a tree and checks for the number of children it pocesses. by this we can conclude that the complexity is $O(n)$ since it iterates through the tree once.\n",
    "\n",
    "If the children exists, it iterates through the sub-tree once again to find the sum of the parent and childern values so the complexity multiples by $O(n)$.\n",
    "\n",
    "Thus, the overall algorithm has a complexity of $O(n*n)$ = $O(n^2)$"
   ]
  },
  {
   "cell_type": "markdown",
   "metadata": {},
   "source": [
    "## Question 2.3"
   ]
  },
  {
   "cell_type": "markdown",
   "metadata": {},
   "source": [
    " Write and run unit tests and performance tests."
   ]
  },
  {
   "cell_type": "code",
   "execution_count": 22,
   "metadata": {},
   "outputs": [
    {
     "name": "stderr",
     "output_type": "stream",
     "text": [
      "....."
     ]
    },
    {
     "name": "stdout",
     "output_type": "stream",
     "text": [
      "Test with both negative and positive value has a performance time of: 6.718901568092406e-05\n",
      "Test with only positive balue has a performance time of: 9.320900426246226e-05\n",
      "Test with only negative balue has a performance time of:: 6.491199019365013e-05\n"
     ]
    },
    {
     "name": "stderr",
     "output_type": "stream",
     "text": [
      ".\n",
      "----------------------------------------------------------------------\n",
      "Ran 6 tests in 0.701s\n",
      "\n",
      "OK\n"
     ]
    },
    {
     "data": {
      "text/plain": [
       "<unittest.runner.TextTestResult run=6 errors=0 failures=0>"
      ]
     },
     "execution_count": 22,
     "metadata": {},
     "output_type": "execute_result"
    }
   ],
   "source": [
    "import unittest\n",
    "from timeit import default_timer as timer\n",
    "import datetime\n",
    "\n",
    "class TestMinsubtree(unittest.TestCase):\n",
    "    def treeRandom():\n",
    "        root = Tree(1)\n",
    "        root.addChild(Tree(-2))\n",
    "        root.addChild(Tree(3))\n",
    "        root.addChild(Tree(4))\n",
    "        #second level\n",
    "        root.getChild(0).addChild(Tree(-5))\n",
    "        root.getChild(1).addChild(Tree(-6))\n",
    "        root.getChild(2).addChild(Tree(7))\n",
    "        #third level\n",
    "        root.getChild(0).getChild(0).addChild(Tree(8))\n",
    "        root.getChild(0).getChild(0).addChild(Tree(9))\n",
    "        root.getChild(0).getChild(0).addChild(Tree(10))\n",
    "        root.getChild(2).getChild(0).addChild(Tree(11))\n",
    "        #fourth level\n",
    "        root.getChild(2).getChild(0).getChild(0).addChild(Tree(12))\n",
    "        return root\n",
    "\n",
    "    def treePositive():\n",
    "        root = Tree(1)\n",
    "        root.addChild(Tree(2))\n",
    "        root.addChild(Tree(3))\n",
    "        root.addChild(Tree(4))\n",
    "        #second level\n",
    "        root.getChild(0).addChild(Tree(5))\n",
    "        root.getChild(1).addChild(Tree(6))\n",
    "        root.getChild(2).addChild(Tree(7))\n",
    "        #third level\n",
    "        root.getChild(0).getChild(0).addChild(Tree(8))\n",
    "        root.getChild(0).getChild(0).addChild(Tree(9))\n",
    "        root.getChild(0).getChild(0).addChild(Tree(10))\n",
    "        root.getChild(2).getChild(0).addChild(Tree(11))\n",
    "        #fourth level\n",
    "        root.getChild(2).getChild(0).getChild(0).addChild(Tree(12))\n",
    "        return root\n",
    "    \n",
    "    def treeNegative():\n",
    "        root = Tree(1)\n",
    "        root.addChild(Tree(-2))\n",
    "        root.addChild(Tree(-3))\n",
    "        root.addChild(Tree(-4))\n",
    "        #second level\n",
    "        root.getChild(0).addChild(Tree(-5))\n",
    "        root.getChild(1).addChild(Tree(-6))\n",
    "        root.getChild(2).addChild(Tree(-7))\n",
    "        #third level\n",
    "        root.getChild(0).getChild(0).addChild(Tree(-8))\n",
    "        root.getChild(0).getChild(0).addChild(Tree(-9))\n",
    "        root.getChild(0).getChild(0).addChild(Tree(-10))\n",
    "        root.getChild(2).getChild(0).addChild(Tree(-11))\n",
    "        #fourth level\n",
    "        root.getChild(2).getChild(0).getChild(0).addChild(Tree(-12))\n",
    "        return root\n",
    "    \n",
    "    def testwithRandom(self):\n",
    "        fullTree = treeRandom()\n",
    "        result = subTree_val(fullTree)\n",
    "        assertEquals(result,-9)\n",
    "        \n",
    "        \n",
    "    def testwithPositive(self):\n",
    "        fullTree = treePositive()\n",
    "        result = subTree_val(fullTree)\n",
    "        assertEquals(result,1)\n",
    "        \n",
    "    def testwithNegative(self):\n",
    "        fullTree = treeNegative()\n",
    "        result = subTree_val(fullTree)\n",
    "        assertEquals(result,-76)\n",
    "    \n",
    "RandTree = TestMinsubtree.treeRandom()\n",
    "start = timer()\n",
    "subTree_val(RandTree)\n",
    "end = timer()\n",
    "print(\"Test with both negative and positive value has a performance time of:\",end - start)\n",
    "\n",
    "\n",
    "PosTree = TestMinsubtree.treePositive()\n",
    "start = timer()\n",
    "subTree_val(PosTree)\n",
    "end = timer()\n",
    "print(\"Test with only positive balue has a performance time of:\",end - start)\n",
    "\n",
    "NegTree = TestMinsubtree.treeNegative()\n",
    "start = timer()\n",
    "subTree_val(NegTree)\n",
    "end = timer()\n",
    "print(\"Test with only negative balue has a performance time of::\",end - start)\n",
    "\n",
    "\n",
    "test = TestPairSort()\n",
    "suite = unittest.TestLoader().loadTestsFromModule(test)\n",
    "unittest.TextTestRunner().run(suite)"
   ]
  }
 ],
 "metadata": {
  "kernelspec": {
   "display_name": "Python 3",
   "language": "python",
   "name": "python3"
  },
  "language_info": {
   "codemirror_mode": {
    "name": "ipython",
    "version": 3
   },
   "file_extension": ".py",
   "mimetype": "text/x-python",
   "name": "python",
   "nbconvert_exporter": "python",
   "pygments_lexer": "ipython3",
   "version": "3.6.4"
  }
 },
 "nbformat": 4,
 "nbformat_minor": 2
}
